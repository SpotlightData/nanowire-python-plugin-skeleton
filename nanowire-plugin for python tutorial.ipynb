{
 "cells": [
  {
   "cell_type": "markdown",
   "metadata": {},
   "source": [
    "<h1><center> Guide to using nanowire-plugin to build plugins for the nanowire data management system </center></h1>\n",
    "\n",
    "This is a guide to using the nanowire plugin to develop custom plugins for the nanowire data processing system. The nanowire system works by creating a server which performs some user function on code passed to it. The result of the user code is then passed to the next plugin in the pipeline.\n",
    "\n",
    "<center><img src=\"./nanowire-drawing.png\"><center>\n",
    "\n",
    "In this system the function to be turned into a plugin becomes an individual dockerised server which examines a rabbitMQ queue waiting for information to become avalible on the queue. When an object is queued on the apropriate rabbitMQ queue the plugin takes the object off the queue and passes it to the queue for the next plugin in the pipeline. In this way multiple plugins can be chained together to produce a workflow."
   ]
  },
  {
   "cell_type": "code",
   "execution_count": null,
   "metadata": {
    "collapsed": true
   },
   "outputs": [],
   "source": []
  }
 ],
 "metadata": {
  "kernelspec": {
   "display_name": "Python 3",
   "language": "python",
   "name": "python3"
  },
  "language_info": {
   "codemirror_mode": {
    "name": "ipython",
    "version": 3
   },
   "file_extension": ".py",
   "mimetype": "text/x-python",
   "name": "python",
   "nbconvert_exporter": "python",
   "pygments_lexer": "ipython3",
   "version": "3.5.2"
  }
 },
 "nbformat": 4,
 "nbformat_minor": 2
}
